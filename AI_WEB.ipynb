{
  "cells": [
    {
      "cell_type": "code",
      "execution_count": 69,
      "metadata": {
        "id": "zzip-UEakOqQ"
      },
      "outputs": [],
      "source": [
        "import getpass\n",
        "import os\n",
        "import bs4\n",
        "from typing import Optional\n",
        "from datetime import date\n",
        "from langchain_community.document_loaders import WebBaseLoader\n",
        "from pydantic import BaseModel, Field\n",
        "from langchain.chat_models import init_chat_model\n",
        "from langchain_core.prompts import ChatPromptTemplate, MessagesPlaceholder\n",
        "from langchain_core.documents import Document"
      ]
    },
    {
      "cell_type": "code",
      "execution_count": 70,
      "metadata": {},
      "outputs": [],
      "source": [
        "if \"GOOGLE_API_KEY\" not in os.environ:\n",
        "    os.environ[\"GOOGLE_API_KEY\"] = getpass.getpass(\"Enter your Google AI API key: \")"
      ]
    },
    {
      "cell_type": "code",
      "execution_count": 71,
      "metadata": {},
      "outputs": [],
      "source": [
        "class Profil(BaseModel):\n",
        "    title: Optional[str] = Field(default=None, description=\"Title of the job offer\")\n",
        "    company: Optional[str] = Field(default=None, description=\"Company offering the job\")\n",
        "    location: Optional[str] = Field(default=None, description=\"Location of the job\")\n",
        "    contract_type: Optional[str] = Field(default=None, description=\"Type of contract (CDI, CDD, alternance...)\")\n",
        "    publication_date: Optional[date] = Field(default=None, description=\"Date when the job was posted format YYYY-MM-DD\")\n",
        "    experience: Optional[str] = Field(default=None, description=\"Required experience level\")\n",
        "    skills: Optional[list[str]] = Field(default=None, description=\"Required technical skills (languages, tools...)\")\n",
        "    soft_skills: Optional[list[str]] = Field(default=None, description=\"Soft skills required for the job\")\n",
        "    salary: Optional[str] = Field(default=None, description=\"Salary range if mentioned\")\n",
        "    description: Optional[str] = Field(default=None, description=\"Detailed job description\")"
      ]
    },
    {
      "cell_type": "code",
      "execution_count": 72,
      "metadata": {},
      "outputs": [],
      "source": [
        "def load_pages(urls : list[str]) -> list[Document]:\n",
        "    docs = []\n",
        "    loader = WebBaseLoader(web_path=urls)\n",
        "    for doc in loader.lazy_load():\n",
        "        docs.append(doc)\n",
        "    return docs"
      ]
    },
    {
      "cell_type": "code",
      "execution_count": 73,
      "metadata": {},
      "outputs": [
        {
          "name": "stdout",
          "output_type": "stream",
          "text": [
            "{'source': 'https://www.langchain.com/', 'title': 'LangChain', 'description': 'LangChain’s suite of products supports developers along each step of their development journey.', 'language': 'en'}\n",
            "\n",
            "LangChain\n",
            "\n",
            "\n",
            "\n",
            "\n",
            "\n",
            "\n",
            "\n",
            "\n",
            "\n",
            "\n",
            "\n",
            "\n",
            "\n",
            "\n",
            "\n",
            "\n",
            "\n",
            "\n",
            "\n",
            "\n",
            "Products\n",
            "\n",
            "FrameworksLangGraphLangChainPlatformsLangSmithLangGraph PlatformResources\n",
            "\n",
            "GuidesBlogCustomer StoriesLangChain AcademyCommunityEventsChangelogDocs\n",
            "\n",
            "PythonLangGraphLangSmithLangChainJavaScriptLangGraphLangSmithLangChainCompany\n",
            "\n",
            "AboutCareersPricingGet a demoSign up\n",
            "\n",
            "\n",
            "\n",
            "\n",
            "\n",
            "\n",
            "\n",
            "\n",
            "\n",
            "\n",
            "\n",
            "\n",
            "Products\n",
            "\n",
            "FrameworksLangGraphLangChainPlatformsLangSmithLangGraph PlatformResources\n",
            "\n",
            "GuidesBlogCustomer StoriesLangChain AcademyCommunityEventsChangelogDocs\n",
            "\n",
            "PythonLangGraphLangSmithLangChainJavaScriptLangGraphLangSmithLangChainCompany\n",
            "\n",
            "AboutCareersPricingGet a demoSign upThe platform for reliable agents. Tools for every step of the agent development lifecycle -- built to unlock powerful AI in production.Request a demoSee the docs\n",
            "\n",
            "LangChain products power top engineering teams, from startups to global enterprisesAccelerate agent development.Build faster with templates & a visual agent IDE. Reuse, configure, and combine agents to go further with less code.Ship reliable agents.Design agents that can handle sophisticated tasks with control. Add human-in-the-loop to steer and approve agent actions.Gain visibility & improve quality.See what’s happening - so you can quickly trace to root cause and debug issues. Evaluate your agent performance to improve over time.The Agent StackORCHESTRATION:Build agents with LangGraphControllable agent orchestration with built-in persistence to handle conversational history, memory, and agent-to-agent collaboration.INTEGRATIONS:Integrate components with LangChainIntegrate with the latest models, databases, and tools with no engineering overhead.EVALS & OBSERVABILITY:Gain visibility with LangSmithDebug poor-performing LLM app runs. Evaluate and observe agent performance at scale.DEPLOYMENT:Deploy & manage with LangGraph PlatformDeploy and scale enterprise-grade agents with long-running workflows. Discover, reuse, and share agents across teams — and iterate faster with LangGraph Studio.CopilotsBuild native co-pilots into your ap\n"
          ]
        }
      ],
      "source": [
        "page_url = \"https://www.langchain.com/\"\n",
        "docs = load_pages([page_url])\n",
        "doc = docs[0]\n",
        "print(f\"{doc.metadata}\\n\")\n",
        "print(doc.page_content[:2000].strip())"
      ]
    },
    {
      "cell_type": "code",
      "execution_count": 74,
      "metadata": {
        "colab": {
          "base_uri": "https://localhost:8080/",
          "height": 1000
        },
        "id": "oqkbw7VUklA2",
        "outputId": "55b81067-f3cc-42f4-9030-f87f533c3637"
      },
      "outputs": [],
      "source": [
        "model = init_chat_model(\"gemini-2.0-flash\", model_provider=\"google-genai\")\n",
        "structured_llm = model.with_structured_output(schema=Profil)\n",
        "\n",
        "prompt_template = ChatPromptTemplate.from_messages(\n",
        "    [\n",
        "        (\n",
        "            \"system\",\n",
        "            \"You are an expert extraction algorithm. \"\n",
        "            \"Only extract relevant information from the text. \"\n",
        "            \"If you do not know the value of an attribute asked to extract, \"\n",
        "            \"return null for the attribute's value.\",\n",
        "        ),\n",
        "        (\"human\", \"{text}\"),\n",
        "    ]\n",
        ")"
      ]
    },
    {
      "cell_type": "code",
      "execution_count": 75,
      "metadata": {},
      "outputs": [
        {
          "name": "stdout",
          "output_type": "stream",
          "text": [
            "{'source': 'https://www.langchain.com/', 'title': 'LangChain', 'description': 'LangChain’s suite of products supports developers along each step of their development journey.', 'language': 'en'}\n",
            "title: AI Agent Platform\n",
            "company: LangChain\n",
            "location: None\n",
            "contract_type: None\n",
            "publication_date: None\n",
            "experience: None\n",
            "skills: ['orchestration', 'integrations', 'evals', 'observability', 'deployment']\n",
            "soft_skills: ['AI']\n",
            "salary: None\n",
            "description: The platform for reliable agents. Tools for every step of the agent development lifecycle -- built to unlock powerful AI in production.\n"
          ]
        }
      ],
      "source": [
        "for doc in docs:\n",
        "    print(doc.metadata)\n",
        "    text = doc.page_content\n",
        "    prompt = prompt_template.invoke({\"text\": text})\n",
        "    res = structured_llm.invoke(prompt)\n",
        "    res_dict = res.model_dump()\n",
        "    for key, value in res_dict.items():\n",
        "        print(f\"{key}: {value}\")"
      ]
    }
  ],
  "metadata": {
    "colab": {
      "provenance": []
    },
    "kernelspec": {
      "display_name": ".venv",
      "language": "python",
      "name": "python3"
    },
    "language_info": {
      "codemirror_mode": {
        "name": "ipython",
        "version": 3
      },
      "file_extension": ".py",
      "mimetype": "text/x-python",
      "name": "python",
      "nbconvert_exporter": "python",
      "pygments_lexer": "ipython3",
      "version": "3.12.10"
    }
  },
  "nbformat": 4,
  "nbformat_minor": 0
}
